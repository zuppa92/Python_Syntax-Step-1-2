{
 "cells": [
  {
   "cell_type": "code",
   "execution_count": 1,
   "metadata": {},
   "outputs": [
    {
     "name": "stdout",
     "output_type": "stream",
     "text": [
      "5\n",
      "6\n",
      "7\n"
     ]
    }
   ],
   "source": [
    "def count_up(start, stop):\n",
    "    \"\"\"Print all numbers from start up to and including stop.\n",
    "\n",
    "    For example:\n",
    "\n",
    "        count_up(5, 7)\n",
    "\n",
    "   should print:\n",
    "\n",
    "        5\n",
    "        6\n",
    "        7\n",
    "    \"\"\"\n",
    "\n",
    "    while start <= stop:\n",
    "        print(start)\n",
    "        start = start + 1\n",
    "\n",
    "\n",
    "count_up(5, 7)        \n"
   ]
  }
 ],
 "metadata": {
  "kernelspec": {
   "display_name": "Python 3",
   "language": "python",
   "name": "python3"
  },
  "language_info": {
   "codemirror_mode": {
    "name": "ipython",
    "version": 3
   },
   "file_extension": ".py",
   "mimetype": "text/x-python",
   "name": "python",
   "nbconvert_exporter": "python",
   "pygments_lexer": "ipython3",
   "version": "3.9.6"
  }
 },
 "nbformat": 4,
 "nbformat_minor": 2
}
