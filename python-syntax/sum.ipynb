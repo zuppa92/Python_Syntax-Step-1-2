{
 "cells": [
  {
   "cell_type": "code",
   "execution_count": 1,
   "metadata": {},
   "outputs": [
    {
     "name": "stdout",
     "output_type": "stream",
     "text": [
      "sum_nums returned 10\n"
     ]
    }
   ],
   "source": [
    "def sum_nums(nums):\n",
    "\n",
    "    total = 0\n",
    "\n",
    "    for num in nums:\n",
    "        total = total + num\n",
    "\n",
    "    return total    \n",
    "\n",
    "\n",
    "print(\"sum_nums returned\", sum_nums([1, 2, 3, 4]))"
   ]
  }
 ],
 "metadata": {
  "kernelspec": {
   "display_name": "Python 3",
   "language": "python",
   "name": "python3"
  },
  "language_info": {
   "codemirror_mode": {
    "name": "ipython",
    "version": 3
   },
   "file_extension": ".py",
   "mimetype": "text/x-python",
   "name": "python",
   "nbconvert_exporter": "python",
   "pygments_lexer": "ipython3",
   "version": "3.9.6"
  }
 },
 "nbformat": 4,
 "nbformat_minor": 2
}
