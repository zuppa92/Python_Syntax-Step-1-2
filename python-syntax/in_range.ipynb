{
 "cells": [
  {
   "cell_type": "code",
   "execution_count": 1,
   "metadata": {},
   "outputs": [
    {
     "name": "stdout",
     "output_type": "stream",
     "text": [
      "20 fits\n",
      "30 fits\n"
     ]
    }
   ],
   "source": [
    "def in_range(nums, lowest, highest):\n",
    "\n",
    "    for num in nums:\n",
    "        if num >= lowest and num <= highest:\n",
    "            print(f\"{num} fits\")\n",
    "\n",
    "\n",
    "in_range([10, 20, 30, 40, 50], 15, 30)            \n"
   ]
  }
 ],
 "metadata": {
  "kernelspec": {
   "display_name": "Python 3",
   "language": "python",
   "name": "python3"
  },
  "language_info": {
   "codemirror_mode": {
    "name": "ipython",
    "version": 3
   },
   "file_extension": ".py",
   "mimetype": "text/x-python",
   "name": "python",
   "nbconvert_exporter": "python",
   "pygments_lexer": "ipython3",
   "version": "3.9.6"
  }
 },
 "nbformat": 4,
 "nbformat_minor": 2
}
