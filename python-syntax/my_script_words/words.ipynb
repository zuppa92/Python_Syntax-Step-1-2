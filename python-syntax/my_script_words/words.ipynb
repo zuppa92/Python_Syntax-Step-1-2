{
 "cells": [
  {
   "cell_type": "code",
   "execution_count": 1,
   "metadata": {},
   "outputs": [],
   "source": [
    "def print_upper_words(words):\n",
    "    \"\"\"Print each word on sep line, uppercased.\n",
    "\n",
    "        >>> print_upper_words([\"Programming\", \"is\", \"pretty\", \"fun\"])\n",
    "        PROGRAMMING\n",
    "        IS\n",
    "        PRETTY\n",
    "        FUN\n",
    "    \"\"\"\n",
    "\n",
    "    for word in words:\n",
    "        print(word.upper())\n",
    "\n",
    "\n",
    "def print_upper_words2(words):\n",
    "    \"\"\"Print each word on sep line, uppercased, if starts with E or e.\n",
    "\n",
    "        >>> print_upper_words2([\"eagle\", \"Edward\", \"Alfred\"])\n",
    "        EAGLE\n",
    "        EDWARD\n",
    "    \"\"\"\n",
    "\n",
    "    for word in words:\n",
    "        if word.startswith(\"e\") or word.startswith(\"E\"):\n",
    "            print(word.upper())\n",
    "\n",
    "\n",
    "def print_upper_words3(words, must_start_with):\n",
    "    \"\"\"Print each word on sep line, uppercased, if starts with one of given\n",
    "\n",
    "        >>> print_upper_words3([\"eagle\", \"Edward\", \"Alfred\", \"zope\"],\n",
    "        ...                   must_start_with=[\"A\", \"E\"])\n",
    "        EDWARD\n",
    "        ALFRED\n",
    "    \"\"\"\n",
    "\n",
    "    for word in words:\n",
    "        for letter in must_start_with:\n",
    "            if word.startswith(letter):\n",
    "                print(word.upper())\n",
    "                break\n"
   ]
  }
 ],
 "metadata": {
  "kernelspec": {
   "display_name": "Python 3",
   "language": "python",
   "name": "python3"
  },
  "language_info": {
   "codemirror_mode": {
    "name": "ipython",
    "version": 3
   },
   "file_extension": ".py",
   "mimetype": "text/x-python",
   "name": "python",
   "nbconvert_exporter": "python",
   "pygments_lexer": "ipython3",
   "version": "3.9.6"
  }
 },
 "nbformat": 4,
 "nbformat_minor": 2
}
